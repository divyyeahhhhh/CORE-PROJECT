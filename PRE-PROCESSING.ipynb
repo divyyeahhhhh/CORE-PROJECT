{
  "nbformat": 4,
  "nbformat_minor": 0,
  "metadata": {
    "colab": {
      "provenance": [],
      "mount_file_id": "1i9w4_JbbIku-wrD-SVUBlcPD9xXHsk_8",
      "authorship_tag": "ABX9TyN5+XXkCTPLGaqcAIV5v2sz",
      "include_colab_link": true
    },
    "kernelspec": {
      "name": "python3",
      "display_name": "Python 3"
    },
    "language_info": {
      "name": "python"
    }
  },
  "cells": [
    {
      "cell_type": "markdown",
      "metadata": {
        "id": "view-in-github",
        "colab_type": "text"
      },
      "source": [
        "<a href=\"https://colab.research.google.com/github/divyyeahhhhh/CORE-PROJECT/blob/main/PRE-PROCESSING.ipynb\" target=\"_parent\"><img src=\"https://colab.research.google.com/assets/colab-badge.svg\" alt=\"Open In Colab\"/></a>"
      ]
    },
    {
      "cell_type": "code",
      "execution_count": 4,
      "metadata": {
        "colab": {
          "base_uri": "https://localhost:8080/",
          "height": 490
        },
        "id": "r_YyDtLpcrb5",
        "outputId": "273cdf3e-ba41-4c8e-9b40-3a08c9aecf03"
      },
      "outputs": [
        {
          "output_type": "stream",
          "name": "stdout",
          "text": [
            "\tzip warning: name not matched: /content/drive/MyDrive/CORE\n",
            "\tzip warning: name not matched: PROJECT/output\n",
            "\tzip warning: name not matched: healthy/content/drive/MyDrive/CORE\n",
            "\tzip warning: name not matched: PROJECT/output\n",
            "\tzip warning: name not matched: disease\n",
            "\n",
            "zip error: Nothing to do! (try: zip -r preprocessed_images.zip . -i /content/drive/MyDrive/CORE PROJECT/output healthy/content/drive/MyDrive/CORE PROJECT/output disease)\n"
          ]
        },
        {
          "output_type": "error",
          "ename": "FileNotFoundError",
          "evalue": "ignored",
          "traceback": [
            "\u001b[0;31m---------------------------------------------------------------------------\u001b[0m",
            "\u001b[0;31mFileNotFoundError\u001b[0m                         Traceback (most recent call last)",
            "\u001b[0;32m<ipython-input-4-61a13ecd0b09>\u001b[0m in \u001b[0;36m<cell line: 37>\u001b[0;34m()\u001b[0m\n\u001b[1;32m     35\u001b[0m \u001b[0;34m\u001b[0m\u001b[0m\n\u001b[1;32m     36\u001b[0m \u001b[0;31m# Download the zip file\u001b[0m\u001b[0;34m\u001b[0m\u001b[0;34m\u001b[0m\u001b[0m\n\u001b[0;32m---> 37\u001b[0;31m \u001b[0mfiles\u001b[0m\u001b[0;34m.\u001b[0m\u001b[0mdownload\u001b[0m\u001b[0;34m(\u001b[0m\u001b[0;34m'preprocessed_images.zip'\u001b[0m\u001b[0;34m)\u001b[0m\u001b[0;34m\u001b[0m\u001b[0;34m\u001b[0m\u001b[0m\n\u001b[0m\u001b[1;32m     38\u001b[0m \u001b[0;34m\u001b[0m\u001b[0m\n",
            "\u001b[0;32m/usr/local/lib/python3.10/dist-packages/google/colab/files.py\u001b[0m in \u001b[0;36mdownload\u001b[0;34m(filename)\u001b[0m\n\u001b[1;32m    223\u001b[0m   \u001b[0;32mif\u001b[0m \u001b[0;32mnot\u001b[0m \u001b[0m_os\u001b[0m\u001b[0;34m.\u001b[0m\u001b[0mpath\u001b[0m\u001b[0;34m.\u001b[0m\u001b[0mexists\u001b[0m\u001b[0;34m(\u001b[0m\u001b[0mfilename\u001b[0m\u001b[0;34m)\u001b[0m\u001b[0;34m:\u001b[0m\u001b[0;34m\u001b[0m\u001b[0;34m\u001b[0m\u001b[0m\n\u001b[1;32m    224\u001b[0m     \u001b[0mmsg\u001b[0m \u001b[0;34m=\u001b[0m \u001b[0;34m'Cannot find file: {}'\u001b[0m\u001b[0;34m.\u001b[0m\u001b[0mformat\u001b[0m\u001b[0;34m(\u001b[0m\u001b[0mfilename\u001b[0m\u001b[0;34m)\u001b[0m\u001b[0;34m\u001b[0m\u001b[0;34m\u001b[0m\u001b[0m\n\u001b[0;32m--> 225\u001b[0;31m     \u001b[0;32mraise\u001b[0m \u001b[0mFileNotFoundError\u001b[0m\u001b[0;34m(\u001b[0m\u001b[0mmsg\u001b[0m\u001b[0;34m)\u001b[0m  \u001b[0;31m# pylint: disable=undefined-variable\u001b[0m\u001b[0;34m\u001b[0m\u001b[0;34m\u001b[0m\u001b[0m\n\u001b[0m\u001b[1;32m    226\u001b[0m \u001b[0;34m\u001b[0m\u001b[0m\n\u001b[1;32m    227\u001b[0m   \u001b[0mcomm_manager\u001b[0m \u001b[0;34m=\u001b[0m \u001b[0m_IPython\u001b[0m\u001b[0;34m.\u001b[0m\u001b[0mget_ipython\u001b[0m\u001b[0;34m(\u001b[0m\u001b[0;34m)\u001b[0m\u001b[0;34m.\u001b[0m\u001b[0mkernel\u001b[0m\u001b[0;34m.\u001b[0m\u001b[0mcomm_manager\u001b[0m\u001b[0;34m\u001b[0m\u001b[0;34m\u001b[0m\u001b[0m\n",
            "\u001b[0;31mFileNotFoundError\u001b[0m: Cannot find file: preprocessed_images.zip"
          ]
        }
      ],
      "source": [
        "import cv2\n",
        "import numpy as np\n",
        "import os\n",
        "from google.colab import files\n",
        "# Replace with the paths to your image folders\n",
        "healthy_skin_folder = '/content/drive/MyDrive/CORE PROJECT/Vitiligo DS/Healthy Skin'\n",
        "affected_skin_folder = '/content/drive/MyDrive/CORE PROJECT/Vitiligo DS/vitiligo'\n",
        "\n",
        "# Create output folders for preprocessed images\n",
        "os.makedirs('/content/drive/MyDrive/CORE PROJECT/output healthy', exist_ok=True)\n",
        "os.makedirs('/content/drive/MyDrive/CORE PROJECT/output disease', exist_ok=True)\n",
        "\n",
        "# Function to preprocess and save images\n",
        "def preprocess_and_save(input_folder, output_folder):\n",
        "    for filename in os.listdir(input_folder):\n",
        "        if filename.endswith('.jpg') or filename.endswith('.png'):\n",
        "            img_path = os.path.join(input_folder, filename)\n",
        "            img = cv2.imread(img_path)\n",
        "\n",
        "            # Apply preprocessing steps here\n",
        "            # Example: Resize the image to a fixed size\n",
        "            img = cv2.resize(img, (224, 224))\n",
        "\n",
        "            # Save the preprocessed image to the output folder\n",
        "            output_path = os.path.join(output_folder, filename)\n",
        "            cv2.imwrite(output_path, img)\n",
        "\n",
        "# Preprocess healthy skin images\n",
        "preprocess_and_save(healthy_skin_folder, '/content/drive/MyDrive/CORE PROJECT/output healthy')\n",
        "\n",
        "# Preprocess affected skin images\n",
        "preprocess_and_save(affected_skin_folder, '/content/drive/MyDrive/CORE PROJECT/output disease')\n",
        "# Compress preprocessed images\n",
        "!zip -r preprocessed_images.zip /content/drive/MyDrive/CORE PROJECT/output healthy/content/drive/MyDrive/CORE PROJECT/output disease\n",
        "\n",
        "# Download the zip file\n",
        "files.download('preprocessed_images.zip')\n",
        "\n"
      ]
    }
  ]
}